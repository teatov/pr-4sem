{
  "cells": [
    {
      "cell_type": "markdown",
      "metadata": {
        "id": "dypGsZ7Ej9GX"
      },
      "source": [
        "# Модель для оптического распознавания капчи"
      ]
    },
    {
      "cell_type": "markdown",
      "metadata": {
        "id": "9HX-TgS4j9Gf"
      },
      "source": [
        "## Скачивание вводных данных: [Капчи](https://www.kaggle.com/fournierp/captcha-version-2-images)"
      ]
    },
    {
      "cell_type": "code",
      "execution_count": null,
      "metadata": {
        "colab": {
          "base_uri": "https://localhost:8080/"
        },
        "id": "B-rqrX2qj9Ge",
        "outputId": "dfcd4d3a-1df9-464a-f069-ff451485d45e"
      },
      "outputs": [],
      "source": [
        "!curl -LO https://github.com/AakashKumarNain/CaptchaCracker/raw/master/captcha_images_v2.zip\n",
        "!unzip -qq captcha_images_v2.zip"
      ]
    },
    {
      "cell_type": "markdown",
      "metadata": {
        "id": "PgXoqQdZj9Ga"
      },
      "source": [
        "## Инициализация"
      ]
    },
    {
      "cell_type": "code",
      "execution_count": null,
      "metadata": {
        "colab": {
          "base_uri": "https://localhost:8080/"
        },
        "collapsed": true,
        "id": "AZBdwV9GkuIc",
        "outputId": "e42f1561-5532-45c5-d397-8cf6ee7acc2b"
      },
      "outputs": [],
      "source": [
        "%pip install tensorflow numpy matplotlib"
      ]
    },
    {
      "cell_type": "code",
      "execution_count": null,
      "metadata": {
        "id": "2R6Js1P3j9Gb"
      },
      "outputs": [],
      "source": [
        "import os\n",
        "\n",
        "os.environ[\"KERAS_BACKEND\"] = \"tensorflow\"\n",
        "\n",
        "import numpy as np\n",
        "import matplotlib.pyplot as plt\n",
        "\n",
        "from pathlib import Path\n",
        "\n",
        "import tensorflow as tf"
      ]
    },
    {
      "cell_type": "markdown",
      "metadata": {},
      "source": [
        "В наборе данных имеется 1040 картинок с капчами в формате PNG.\n",
        "Название каждого файла - слово-ответ на капчу.\n",
        "Сопоставим каждому символу в строке целое число, для обучения модели.\n",
        "Аналогично будем сопоставлять прогнозы модели обратно в строки.\n",
        "Для этого у нас будет два словаря, для сопоставления символов числам и наоборот."
      ]
    },
    {
      "cell_type": "code",
      "execution_count": null,
      "metadata": {
        "colab": {
          "base_uri": "https://localhost:8080/",
          "height": 211
        },
        "id": "91rTDXVgj9Gg",
        "outputId": "1fe6f34b-3bcb-4d1d-d6cf-fa19e41d68f9"
      },
      "outputs": [],
      "source": [
        "print(\"Девайсы: \", tf.config.list_physical_devices())\n",
        "\n",
        "# Путь к папке с данными\n",
        "data_dir = Path(\"./captcha_images_v2/\")\n",
        "\n",
        "# Список всех картинок\n",
        "images = sorted(list(map(str, list(data_dir.glob(\"*.png\")))))\n",
        "labels = [img.split(os.path.sep)[-1].split(\".png\")[0] for img in images]\n",
        "characters = set(char for label in labels for char in label)\n",
        "characters = sorted(list(characters))\n",
        "\n",
        "print(\"Картинок найдено: \", len(images))\n",
        "print(\"Слов найдено: \", len(labels))\n",
        "print(\"Уникальных символов: \", len(characters))\n",
        "print(\"Имеющиеся символы: \", characters)\n",
        "\n",
        "# Размер партии для обучения и валидации\n",
        "batch_size = 16\n",
        "\n",
        "# Требуемый размер изображений\n",
        "img_width = 200\n",
        "img_height = 50\n",
        "\n",
        "# Во сколько раз изображение будет уменьшено.\n",
        "# У нас будет 2 свёрточных блока,\n",
        "# у каждого блока будет слой пулинга, который субдескритизирует\n",
        "# изображение в 2 раза, поэтому итоговый коэффициент будет 4.\n",
        "downsample_factor = 4\n",
        "\n",
        "# Максимальная возможная длина капчи\n",
        "max_length = max([len(label) for label in labels])"
      ]
    },
    {
      "cell_type": "markdown",
      "metadata": {
        "id": "bfskRcHTj9Gh"
      },
      "source": [
        "## Предобработка"
      ]
    },
    {
      "cell_type": "code",
      "execution_count": null,
      "metadata": {
        "id": "oHfSNLkSj9Gj"
      },
      "outputs": [],
      "source": [
        "\n",
        "# Сопоставление символов к числам\n",
        "char_to_num = tf.keras.layers.StringLookup(vocabulary=list(characters), mask_token=None)\n",
        "\n",
        "# Сопоставление чисел обратно к символам\n",
        "num_to_char = tf.keras.layers.StringLookup(\n",
        "    vocabulary=char_to_num.get_vocabulary(), mask_token=None, invert=True\n",
        ")\n",
        "\n",
        "\n",
        "def split_data(images, labels, train_size=0.9, shuffle=True):\n",
        "    # 1. Берём количество всех картинок\n",
        "    size = len(images)\n",
        "    # 2. Делаем массив индексов и, если надо, перемешиваем его\n",
        "    indices = tf.keras.ops.arange(size)\n",
        "    if shuffle:\n",
        "        tf.keras.random.shuffle(indices)\n",
        "    # 3. Берём размер тренировочной выборки\n",
        "    train_samples = int(size * train_size)\n",
        "    # 4. Разделяем данные в наборы для обучения и валидации\n",
        "    x_train, y_train = images[indices[:train_samples]], labels[indices[:train_samples]]\n",
        "    x_valid, y_valid = images[indices[train_samples:]], labels[indices[train_samples:]]\n",
        "    return x_train, x_valid, y_train, y_valid\n",
        "\n",
        "\n",
        "x_train, x_valid, y_train, y_valid = split_data(np.array(images), np.array(labels))\n",
        "\n",
        "\n",
        "def encode_single_sample(img_path, label):\n",
        "    # 1. Считываем изображение\n",
        "    img = tf.io.read_file(img_path)\n",
        "    # 2. Декодируем и конвертируем в монохром\n",
        "    img = tf.io.decode_png(img, channels=1)\n",
        "    # 3. Конвертируем в дробь от 0 до 1\n",
        "    img = tf.image.convert_image_dtype(img, tf.float32)\n",
        "    # 4. Изменяем размер изображений под требуемый\n",
        "    img = tf.keras.ops.image.resize(img, [img_height, img_width])\n",
        "    # 5. Транспонируем изображение, чтобы ось времени\n",
        "    # соответствовала ширине изображения\n",
        "    img = tf.keras.ops.transpose(img, axes=[1, 0, 2])\n",
        "    # 6. Сопоставляем символы к числам\n",
        "    label = char_to_num(tf.strings.unicode_split(label, input_encoding=\"UTF-8\"))\n",
        "    # 7. Возвращаем словарь с двумя вводными данными для модели\n",
        "    return {\"image\": img, \"label\": label}\n"
      ]
    },
    {
      "cell_type": "markdown",
      "metadata": {
        "id": "4lwEWwwyj9Gj"
      },
      "source": [
        "## Создаём объекты набора данных"
      ]
    },
    {
      "cell_type": "code",
      "execution_count": null,
      "metadata": {
        "id": "z74ueAZsj9Gk"
      },
      "outputs": [],
      "source": [
        "\n",
        "train_dataset = tf.data.Dataset.from_tensor_slices((x_train, y_train))\n",
        "train_dataset = (\n",
        "    train_dataset.map(encode_single_sample, num_parallel_calls=tf.data.AUTOTUNE)\n",
        "    .batch(batch_size)\n",
        "    .prefetch(buffer_size=tf.data.AUTOTUNE)\n",
        ")\n",
        "\n",
        "validation_dataset = tf.data.Dataset.from_tensor_slices((x_valid, y_valid))\n",
        "validation_dataset = (\n",
        "    validation_dataset.map(encode_single_sample, num_parallel_calls=tf.data.AUTOTUNE)\n",
        "    .batch(batch_size)\n",
        "    .prefetch(buffer_size=tf.data.AUTOTUNE)\n",
        ")"
      ]
    },
    {
      "cell_type": "markdown",
      "metadata": {
        "id": "VAV4oiWzj9Gl"
      },
      "source": [
        "## Визуализация вводных данных"
      ]
    },
    {
      "cell_type": "code",
      "execution_count": null,
      "metadata": {
        "colab": {
          "base_uri": "https://localhost:8080/",
          "height": 402
        },
        "id": "MoLhuyt1j9Gm",
        "outputId": "864de95e-a8d6-4a4a-a479-402a71c04806"
      },
      "outputs": [],
      "source": [
        "\n",
        "_, ax = plt.subplots(4, 4, figsize=(10, 5))\n",
        "for batch in train_dataset.take(1):\n",
        "    images = batch[\"image\"]\n",
        "    labels = batch[\"label\"]\n",
        "    for i in range(16):\n",
        "        img = (images[i] * 255).numpy().astype(\"uint8\")\n",
        "        label = tf.strings.reduce_join(num_to_char(labels[i])).numpy().decode(\"utf-8\")\n",
        "        ax[i // 4, i % 4].imshow(img[:, :, 0].T, cmap=\"gray\")\n",
        "        ax[i // 4, i % 4].set_title(label)\n",
        "        ax[i // 4, i % 4].axis(\"off\")\n",
        "plt.show()"
      ]
    },
    {
      "cell_type": "markdown",
      "metadata": {
        "id": "TqAtTtnsj9Gm"
      },
      "source": [
        "## Модель"
      ]
    },
    {
      "cell_type": "code",
      "execution_count": null,
      "metadata": {
        "colab": {
          "base_uri": "https://localhost:8080/",
          "height": 629
        },
        "id": "Qp-E-WkYj9Gm",
        "outputId": "55a63300-698c-47e2-d4fc-71971004a8a7"
      },
      "outputs": [],
      "source": [
        "\n",
        "def ctc_batch_cost(y_true, y_pred, input_length, label_length):\n",
        "    label_length = tf.keras.ops.cast(tf.keras.ops.squeeze(label_length, axis=-1), dtype=\"int32\")\n",
        "    input_length = tf.keras.ops.cast(tf.keras.ops.squeeze(input_length, axis=-1), dtype=\"int32\")\n",
        "    sparse_labels = tf.keras.ops.cast(\n",
        "        ctc_label_dense_to_sparse(y_true, label_length), dtype=\"int32\"\n",
        "    )\n",
        "\n",
        "    y_pred = tf.keras.ops.log(tf.keras.ops.transpose(y_pred, axes=[1, 0, 2]) + tf.keras.backend.epsilon())\n",
        "\n",
        "    return tf.keras.ops.expand_dims(\n",
        "        tf.compat.v1.nn.ctc_loss(\n",
        "            inputs=y_pred, labels=sparse_labels, sequence_length=input_length\n",
        "        ),\n",
        "        1,\n",
        "    )\n",
        "\n",
        "\n",
        "def ctc_label_dense_to_sparse(labels, label_lengths):\n",
        "    label_shape = tf.keras.ops.shape(labels)\n",
        "    num_batches_tns = tf.keras.ops.stack([label_shape[0]])\n",
        "    max_num_labels_tns = tf.keras.ops.stack([label_shape[1]])\n",
        "\n",
        "    def range_less_than(old_input, current_input):\n",
        "        return tf.keras.ops.expand_dims(tf.keras.ops.arange(tf.keras.ops.shape(old_input)[1]), 0) < tf.fill(\n",
        "            max_num_labels_tns, current_input\n",
        "        )\n",
        "\n",
        "    init = tf.keras.ops.cast(tf.fill([1, label_shape[1]], 0), dtype=\"bool\")\n",
        "    dense_mask = tf.compat.v1.scan(\n",
        "        range_less_than, label_lengths, initializer=init, parallel_iterations=1\n",
        "    )\n",
        "    dense_mask = dense_mask[:, 0, :]\n",
        "\n",
        "    label_array = tf.keras.ops.reshape(\n",
        "        tf.keras.ops.tile(tf.keras.ops.arange(0, label_shape[1]), num_batches_tns), label_shape\n",
        "    )\n",
        "    label_ind = tf.compat.v1.boolean_mask(label_array, dense_mask)\n",
        "\n",
        "    batch_array = tf.keras.ops.transpose(\n",
        "        tf.keras.ops.reshape(\n",
        "            tf.keras.ops.tile(tf.keras.ops.arange(0, label_shape[0]), max_num_labels_tns),\n",
        "            tf.reverse(label_shape, [0]),\n",
        "        )\n",
        "    )\n",
        "    batch_ind = tf.compat.v1.boolean_mask(batch_array, dense_mask)\n",
        "    indices = tf.keras.ops.transpose(\n",
        "        tf.keras.ops.reshape(tf.keras.ops.concatenate([batch_ind, label_ind], axis=0), [2, -1])\n",
        "    )\n",
        "\n",
        "    vals_sparse = tf.compat.v1.gather_nd(labels, indices)\n",
        "\n",
        "    return tf.SparseTensor(\n",
        "        tf.keras.ops.cast(indices, dtype=\"int64\"),\n",
        "        vals_sparse,\n",
        "        tf.keras.ops.cast(label_shape, dtype=\"int64\")\n",
        "    )\n",
        "\n",
        "\n",
        "class CTCLayer(tf.keras.layers.Layer):\n",
        "    def __init__(self, name=None):\n",
        "        super().__init__(name=name)\n",
        "        self.loss_fn = ctc_batch_cost\n",
        "\n",
        "    def call(self, y_true, y_pred):\n",
        "        batch_len = tf.keras.ops.cast(tf.keras.ops.shape(y_true)[0], dtype=\"int64\")\n",
        "        input_length = tf.keras.ops.cast(tf.keras.ops.shape(y_pred)[1], dtype=\"int64\")\n",
        "        label_length = tf.keras.ops.cast(tf.keras.ops.shape(y_true)[1], dtype=\"int64\")\n",
        "\n",
        "        input_length = input_length * tf.keras.ops.ones(shape=(batch_len, 1), dtype=\"int64\")\n",
        "        label_length = label_length * tf.keras.ops.ones(shape=(batch_len, 1), dtype=\"int64\")\n",
        "\n",
        "        loss = self.loss_fn(y_true, y_pred, input_length, label_length)\n",
        "        self.add_loss(loss)\n",
        "\n",
        "        return y_pred\n",
        "\n",
        "\n",
        "def build_model():\n",
        "    # Ввод данных в модель\n",
        "    input_img = tf.keras.layers.Input(\n",
        "        shape=(img_width, img_height, 1), name=\"image\", dtype=\"float32\"\n",
        "    )\n",
        "    labels = tf.keras.layers.Input(name=\"label\", shape=(None,), dtype=\"float32\")\n",
        "\n",
        "    # Первый свёрточный слой\n",
        "    x = tf.keras.layers.Conv2D(\n",
        "        32,\n",
        "        (3, 3),\n",
        "        activation=\"relu\",\n",
        "        kernel_initializer=\"he_normal\",\n",
        "        padding=\"same\",\n",
        "        name=\"Conv1\",\n",
        "    )(input_img)\n",
        "    x = tf.keras.layers.MaxPooling2D((2, 2), name=\"pool1\")(x)\n",
        "\n",
        "    # Второй свёрточный слой\n",
        "    x = tf.keras.layers.Conv2D(\n",
        "        64,\n",
        "        (3, 3),\n",
        "        activation=\"relu\",\n",
        "        kernel_initializer=\"he_normal\",\n",
        "        padding=\"same\",\n",
        "        name=\"Conv2\",\n",
        "    )(x)\n",
        "    x = tf.keras.layers.MaxPooling2D((2, 2), name=\"pool2\")(x)\n",
        "\n",
        "    # Пулинг с размером фильтра и шага 2, с функцией максимума.\n",
        "    # В итоге, изображение будет в 4 раза меньше.\n",
        "    new_shape = ((img_width // 4), (img_height // 4) * 64)\n",
        "    x = tf.keras.layers.Reshape(target_shape=new_shape, name=\"reshape\")(x)\n",
        "    x = tf.keras.layers.Dense(64, activation=\"relu\", name=\"dense1\")(x)\n",
        "    x = tf.keras.layers.Dropout(0.2)(x)\n",
        "\n",
        "    # Рекуррентные слои\n",
        "    x = tf.keras.layers.Bidirectional(tf.keras.layers.LSTM(128, return_sequences=True, dropout=0.25))(x)\n",
        "    x = tf.keras.layers.Bidirectional(tf.keras.layers.LSTM(64, return_sequences=True, dropout=0.25))(x)\n",
        "\n",
        "    # Слой вывода\n",
        "    x = tf.keras.layers.Dense(\n",
        "        len(char_to_num.get_vocabulary()) + 1, activation=\"softmax\", name=\"dense2\"\n",
        "    )(x)\n",
        "\n",
        "    # Слой классификации по рейтингу, для вычисления потерь при каждом шаге\n",
        "    output = CTCLayer(name=\"ctc_loss\")(labels, x)\n",
        "\n",
        "    # Задаём модель\n",
        "    model = tf.keras.models.Model(\n",
        "        inputs=[input_img, labels], outputs=output, name=\"ocr_model_v1\"\n",
        "    )\n",
        "    # Оптимизатор\n",
        "    opt = tf.keras.optimizers.Adam()\n",
        "    # Компилируем модель\n",
        "    model.compile(optimizer=opt)\n",
        "    return model\n",
        "\n",
        "\n",
        "model = build_model()\n",
        "model.summary()"
      ]
    },
    {
      "cell_type": "markdown",
      "metadata": {
        "id": "HsGCwFODj9Gn"
      },
      "source": [
        "## Обучение"
      ]
    },
    {
      "cell_type": "code",
      "execution_count": null,
      "metadata": {
        "colab": {
          "base_uri": "https://localhost:8080/"
        },
        "collapsed": true,
        "id": "iNJxz3SXj9Gn",
        "outputId": "1ede9504-719a-4cfe-f589-c7ba579aa4c0"
      },
      "outputs": [],
      "source": [
        "\n",
        "epochs = 100\n",
        "\n",
        "history = model.fit(\n",
        "    train_dataset,\n",
        "    validation_data=validation_dataset,\n",
        "    epochs=epochs,\n",
        ")\n"
      ]
    },
    {
      "cell_type": "markdown",
      "metadata": {
        "id": "AGlYYpWAykjF"
      },
      "source": [
        "## График обучения"
      ]
    },
    {
      "cell_type": "code",
      "execution_count": null,
      "metadata": {
        "colab": {
          "base_uri": "https://localhost:8080/",
          "height": 472
        },
        "id": "cK8EAXaAyqgg",
        "outputId": "15930f64-2715-4e27-83d5-d3d9852b5e32"
      },
      "outputs": [],
      "source": [
        "plt.plot(history.history['loss'])\n",
        "plt.plot(history.history['val_loss'])\n",
        "plt.xticks(range(0,epochs+1,10))\n",
        "plt.ylabel(\"Потери\")\n",
        "plt.xlabel(\"Этап\")\n",
        "plt.legend(['Обучение', 'Валдиация'], loc='upper right')\n",
        "plt.show()"
      ]
    },
    {
      "cell_type": "markdown",
      "metadata": {
        "id": "NK7rQyI9j9Go"
      },
      "source": [
        "## Вывод"
      ]
    },
    {
      "cell_type": "code",
      "execution_count": null,
      "metadata": {
        "colab": {
          "base_uri": "https://localhost:8080/",
          "height": 952
        },
        "id": "-p0oFzgNj9Go",
        "outputId": "40fcce59-666a-473e-8504-18a8b43483c2"
      },
      "outputs": [],
      "source": [
        "\n",
        "def ctc_decode(y_pred, input_length, greedy=True, beam_width=100, top_paths=1):\n",
        "    input_shape = tf.keras.ops.shape(y_pred)\n",
        "    num_samples, num_steps = input_shape[0], input_shape[1]\n",
        "    y_pred = tf.keras.ops.log(tf.keras.ops.transpose(y_pred, axes=[1, 0, 2]) + tf.keras.backend.epsilon())\n",
        "    input_length = tf.keras.ops.cast(input_length, dtype=\"int32\")\n",
        "\n",
        "    if greedy:\n",
        "        (decoded, log_prob) = tf.nn.ctc_greedy_decoder(\n",
        "            inputs=y_pred, sequence_length=input_length\n",
        "        )\n",
        "    else:\n",
        "        (decoded, log_prob) = tf.compat.v1.nn.ctc_beam_search_decoder(\n",
        "            inputs=y_pred,\n",
        "            sequence_length=input_length,\n",
        "            beam_width=beam_width,\n",
        "            top_paths=top_paths,\n",
        "        )\n",
        "    decoded_dense = []\n",
        "    for st in decoded:\n",
        "        st = tf.SparseTensor(st.indices, st.values, (num_samples, num_steps))\n",
        "        decoded_dense.append(tf.sparse.to_dense(sp_input=st, default_value=-1))\n",
        "    return (decoded_dense, log_prob)\n",
        "\n",
        "\n",
        "# Получаем модель прогноза\n",
        "prediction_model = tf.keras.models.Model(\n",
        "    model.input[0], model.get_layer(name=\"dense2\").output\n",
        ")\n",
        "prediction_model.summary()\n",
        "\n",
        "\n",
        "# Расшифровка прогноза\n",
        "def decode_batch_predictions(pred):\n",
        "    input_len = np.ones(pred.shape[0]) * pred.shape[1]\n",
        "    results = ctc_decode(pred, input_length=input_len, greedy=True)[0][0][\n",
        "        :, :max_length\n",
        "    ]\n",
        "    # Пробегаемся по результатам и возвращаем текст\n",
        "    output_text = []\n",
        "    for res in results:\n",
        "        res = tf.strings.reduce_join(num_to_char(res)).numpy().decode(\"utf-8\")\n",
        "        output_text.append(res)\n",
        "    return output_text\n",
        "\n",
        "\n",
        "#  Проверяем на случайной выборке для валидации\n",
        "for batch in validation_dataset.take(1):\n",
        "    batch_images = batch[\"image\"]\n",
        "    batch_labels = batch[\"label\"]\n",
        "\n",
        "    preds = prediction_model.predict(batch_images)\n",
        "    pred_texts = decode_batch_predictions(preds)\n",
        "    print(pred_texts)\n",
        "\n",
        "    orig_texts = []\n",
        "    for label in batch_labels:\n",
        "        label = tf.strings.reduce_join(num_to_char(label)).numpy().decode(\"utf-8\")\n",
        "        orig_texts.append(label)\n",
        "\n",
        "    _, ax = plt.subplots(4, 4, figsize=(15, 5))\n",
        "    for i in range(len(pred_texts)):\n",
        "        img = (batch_images[i, :, :, 0] * 255).numpy().astype(np.uint8)\n",
        "        img = img.T\n",
        "        title = f\"Прогноз: {pred_texts[i]}\"\n",
        "        ax[i // 4, i % 4].imshow(img, cmap=\"gray\")\n",
        "        ax[i // 4, i % 4].set_title(title)\n",
        "        ax[i // 4, i % 4].axis(\"off\")\n",
        "plt.show()"
      ]
    }
  ],
  "metadata": {
    "accelerator": "GPU",
    "colab": {
      "gpuType": "T4",
      "provenance": []
    },
    "kernelspec": {
      "display_name": "Python 3",
      "name": "python3"
    },
    "language_info": {
      "codemirror_mode": {
        "name": "ipython",
        "version": 3
      },
      "file_extension": ".py",
      "mimetype": "text/x-python",
      "name": "python",
      "nbconvert_exporter": "python",
      "pygments_lexer": "ipython3",
      "version": "3.12.2"
    }
  },
  "nbformat": 4,
  "nbformat_minor": 0
}
